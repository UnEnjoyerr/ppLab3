{
 "cells": [
  {
   "cell_type": "code",
   "execution_count": 1,
   "metadata": {},
   "outputs": [
    {
     "name": "stdout",
     "output_type": "stream",
     "text": [
      "2834.9523099999997\n"
     ]
    }
   ],
   "source": [
    "#1\n",
    "def GtoO(gramms):\n",
    "    ounces = 28.3495231 * gramms\n",
    "    return ounces\n",
    "\n",
    "gramms=float(input(\"Type gramms value \"))\n",
    "print(GtoO(gramms))"
   ]
  },
  {
   "cell_type": "code",
   "execution_count": 3,
   "metadata": {},
   "outputs": [
    {
     "name": "stdout",
     "output_type": "stream",
     "text": [
      "30.555555555555557\n"
     ]
    }
   ],
   "source": [
    "#2\n",
    "def FtoC(F):\n",
    "    Cel=(5 / 9) * (F - 32)\n",
    "    return Cel\n",
    "\n",
    "F=float(input(\"Type values of Farenheit \"))\n",
    "print(FtoC(F))"
   ]
  },
  {
   "cell_type": "code",
   "execution_count": null,
   "metadata": {},
   "outputs": [
    {
     "name": "stdout",
     "output_type": "stream",
     "text": [
      "(12, 23)\n"
     ]
    }
   ],
   "source": [
    "#3\n",
    "#We count 35 heads and 94 legs among the chickens(2legs) and rabbits(4legs) in a farm\n",
    "def solve(numheads, numlegs):\n",
    "    rabbits = (numlegs - 2 * numheads) // 2\n",
    "    chickens = numheads - rabbits\n",
    "    if rabbits < 0 or chickens < 0:\n",
    "        return \"No valid solution\"\n",
    "    return rabbits, chickens\n",
    "numheads=int(input(\"Type number of heads \"))\n",
    "numlegs=int(input(\"Type number of legs \"))\n",
    "print(solve(numheads, numlegs))\n"
   ]
  },
  {
   "cell_type": "code",
   "execution_count": 3,
   "metadata": {},
   "outputs": [
    {
     "name": "stdout",
     "output_type": "stream",
     "text": [
      "[3, 5]\n"
     ]
    }
   ],
   "source": [
    "#4\n",
    "#check if prime\n",
    "def get_prime_list(numbers):\n",
    "    prime_list = []\n",
    "    for n in numbers:\n",
    "        if n > 1: \n",
    "            is_prime = True\n",
    "            for i in range(2, int(n**0.5) + 1):\n",
    "                if n % i == 0: \n",
    "                    is_prime = False\n",
    "                    break \n",
    "            if is_prime: \n",
    "                prime_list.append(n)\n",
    "    return prime_list\n",
    "numbers = [3, 5, 4, 6, 8]\n",
    "print(get_prime_list(numbers))"
   ]
  },
  {
   "cell_type": "code",
   "execution_count": 7,
   "metadata": {},
   "outputs": [
    {
     "name": "stdout",
     "output_type": "stream",
     "text": [
      "Abc\n",
      "Acb\n",
      "bAc\n",
      "bcA\n",
      "cAb\n",
      "cbA\n"
     ]
    }
   ],
   "source": [
    "#5\n",
    "import itertools\n",
    "def Permutations(s):\n",
    "    permutations = itertools.permutations(s)\n",
    "    for perm in permutations:\n",
    "        print(''.join(perm))\n",
    "user_input = input(\"Enter a string: \")\n",
    "Permutations(user_input)"
   ]
  },
  {
   "cell_type": "code",
   "execution_count": null,
   "metadata": {},
   "outputs": [
    {
     "name": "stdout",
     "output_type": "stream",
     "text": [
      "ready are we\n"
     ]
    }
   ],
   "source": [
    "#6\n",
    "#Write a function that accepts string from user, return a sentence with the words reversed. We are ready -> ready are We\n",
    "def reverer(sentence):\n",
    "    words = sentence.split()\n",
    "    reversed_words = words[::-1]\n",
    "    reversed_sentence = ' '.join(reversed_words)\n",
    "    return reversed_sentence\n",
    "\n",
    "sentence = input(\"Type sentence: \")\n",
    "print(reverer(sentence))"
   ]
  },
  {
   "cell_type": "code",
   "execution_count": 15,
   "metadata": {},
   "outputs": [
    {
     "name": "stdout",
     "output_type": "stream",
     "text": [
      "True\n",
      "False\n",
      "False\n"
     ]
    }
   ],
   "source": [
    "#7\n",
    "def has_33(nums):\n",
    "    placeH=0\n",
    "    for num in nums:\n",
    "        if(num==3):\n",
    "            if(placeH==3):\n",
    "                return True\n",
    "        placeH=num\n",
    "    return False\n",
    "print(has_33([1, 3, 3]))\n",
    "print(has_33([1, 3, 1, 3]))\n",
    "print(has_33([3, 1, 3]))"
   ]
  },
  {
   "cell_type": "code",
   "execution_count": 5,
   "metadata": {},
   "outputs": [
    {
     "name": "stdout",
     "output_type": "stream",
     "text": [
      "True\n",
      "True\n",
      "False\n"
     ]
    }
   ],
   "source": [
    "#8\n",
    "def spy_game(nums):\n",
    "    count_zeros = 0 \n",
    "    for num in nums:\n",
    "        if num == 0:\n",
    "            count_zeros += 1 \n",
    "        elif num == 7 and count_zeros == 2:\n",
    "            return True \n",
    "    return False  \n",
    "\n",
    "print(spy_game([1, 2, 4, 0, 0, 7, 5]))  # --> True\n",
    "print(spy_game([1, 0, 2, 4, 0, 5, 7]))  # --> True\n",
    "print(spy_game([1, 7, 2, 0, 4, 5, 0]))  # --> False"
   ]
  },
  {
   "cell_type": "code",
   "execution_count": 24,
   "metadata": {},
   "outputs": [
    {
     "name": "stdout",
     "output_type": "stream",
     "text": [
      "2143\n"
     ]
    }
   ],
   "source": [
    "#9\n",
    "#Write a function that computes the volume of a sphere given its radius.\n",
    "def volume(radius):\n",
    "    vol=((3.14*radius**3)*4)/3\n",
    "    return vol\n",
    "radius=int(input(\"enter radius \"))\n",
    "print(int(volume(radius)))"
   ]
  },
  {
   "cell_type": "code",
   "execution_count": 36,
   "metadata": {},
   "outputs": [
    {
     "data": {
      "text/plain": [
       "[1, 2, 3, 'polalllllll']"
      ]
     },
     "execution_count": 36,
     "metadata": {},
     "output_type": "execute_result"
    }
   ],
   "source": [
    "#10\n",
    "def wanabeset(list):\n",
    "    tsil=[]\n",
    "    for word in list:\n",
    "        if(tsil.count(word)==0):\n",
    "            tsil.append(word)\n",
    "    return tsil\n",
    "list=[1,2,3,3,3,3,3,'polalllllll']\n",
    "wanabeset(list)"
   ]
  },
  {
   "cell_type": "code",
   "execution_count": 35,
   "metadata": {},
   "outputs": [
    {
     "data": {
      "text/plain": [
       "True"
      ]
     },
     "execution_count": 35,
     "metadata": {},
     "output_type": "execute_result"
    }
   ],
   "source": [
    "#11\n",
    "def ifpalind(wordd):\n",
    "    set=[]\n",
    "    tes=[]\n",
    "    for letter in wordd:\n",
    "        set.append(letter)\n",
    "        tes.append(letter)\n",
    "    tes.reverse()\n",
    "    if(set==tes):\n",
    "        return True\n",
    "    return False\n",
    "ifpalind(\"madam\")\n",
    "    "
   ]
  },
  {
   "cell_type": "code",
   "execution_count": 25,
   "metadata": {},
   "outputs": [
    {
     "name": "stdout",
     "output_type": "stream",
     "text": [
      "****\n",
      "*********\n",
      "*******\n"
     ]
    }
   ],
   "source": [
    "#12\n",
    "#Define a functino histogram() that takes a list of integers and prints a histogram to the screen. For example, histogram([4, 9, 7]) should print the following:\n",
    "def historgam(set):\n",
    "    for num in set:\n",
    "        print('*'*num)\n",
    "set=[4,9,7]\n",
    "historgam(set)"
   ]
  },
  {
   "cell_type": "code",
   "execution_count": null,
   "metadata": {},
   "outputs": [
    {
     "name": "stdout",
     "output_type": "stream",
     "text": [
      "Well,  ;lkjhgfx , I am thinking of a number between 1 and 20.\n",
      "Take a guess.\n",
      "Your guess is too low\n",
      "Take a guess.\n",
      "Your guess is too low\n",
      "Take a guess.\n",
      "Your guess is too high\n",
      "Take a guess.\n",
      "Your guess is too low\n",
      "Take a guess.\n",
      "Good job,  ;lkjhgfx ! You guessed my number in  5  guesses!\n"
     ]
    }
   ],
   "source": [
    "#13\n",
    "import random\n",
    "rand=random.randint(1,20)\n",
    "ans=None\n",
    "nuge=0\n",
    "name=input(\"Hello! What is your name? \")\n",
    "print(\"Well, \",name,\", I am thinking of a number between 1 and 20.\")\n",
    "while(ans!=1):\n",
    "    print(\"Take a guess.\")\n",
    "    guess=int(input())\n",
    "    if(guess<rand):\n",
    "        print(\"Your guess is too low\")\n",
    "        nuge+=1\n",
    "    elif(guess>rand):\n",
    "        print(\"Your guess is too high\")\n",
    "        nuge+=1\n",
    "    else:\n",
    "        nuge+=1\n",
    "        print(\"Good job, \",name,\"! You guessed my number in \", nuge, \" guesses!\")\n",
    "        ans=1"
   ]
  },
  {
   "cell_type": "code",
   "execution_count": null,
   "metadata": {},
   "outputs": [],
   "source": [
    "#14"
   ]
  }
 ],
 "metadata": {
  "kernelspec": {
   "display_name": "Python 3",
   "language": "python",
   "name": "python3"
  },
  "language_info": {
   "codemirror_mode": {
    "name": "ipython",
    "version": 3
   },
   "file_extension": ".py",
   "mimetype": "text/x-python",
   "name": "python",
   "nbconvert_exporter": "python",
   "pygments_lexer": "ipython3",
   "version": "3.13.0"
  }
 },
 "nbformat": 4,
 "nbformat_minor": 2
}
