{
 "cells": [
  {
   "cell_type": "code",
   "execution_count": 1,
   "metadata": {},
   "outputs": [
    {
     "name": "stdout",
     "output_type": "stream",
     "text": [
      "ABCDE\n"
     ]
    }
   ],
   "source": [
    "class StringManipulator:\n",
    "    def __init__(self):\n",
    "        self.input_string = \"\"\n",
    "\n",
    "    def getString(self):\n",
    "        self.input_string = input(\"Enter a string: \")\n",
    "\n",
    "    def printString(self):\n",
    "        print(self.input_string.upper())\n",
    "\n",
    "# Example usage:\n",
    "if __name__ == \"__main__\":\n",
    "    string_manipulator = StringManipulator()\n",
    "    string_manipulator.getString()\n",
    "    string_manipulator.printString()"
   ]
  },
  {
   "cell_type": "code",
   "execution_count": 2,
   "metadata": {},
   "outputs": [
    {
     "name": "stdout",
     "output_type": "stream",
     "text": [
      "Area of Shape: 0\n",
      "Area of Square: 64\n"
     ]
    }
   ],
   "source": [
    "class Shape:\n",
    "    def __init__(self):\n",
    "        pass\n",
    "\n",
    "    def area(self):\n",
    "        return 0\n",
    "class Square(Shape):\n",
    "    def __init__(self, length):\n",
    "        super().__init__() \n",
    "        self.length = length \n",
    "\n",
    "    def area(self):\n",
    "        return self.length ** 2  # Area of the square\n",
    "\n",
    "if __name__ == \"__main__\":\n",
    "    shape = Shape()\n",
    "    print(\"Area of Shape:\", shape.area()) \n",
    "    square = Square(int(input(\"Choose a nubmer \")))\n",
    "    print(\"Area of Square:\", square.area()) "
   ]
  },
  {
   "cell_type": "code",
   "execution_count": 4,
   "metadata": {},
   "outputs": [
    {
     "name": "stdout",
     "output_type": "stream",
     "text": [
      "Area of Shape: 0\n",
      "Area of Rectangle: 15\n"
     ]
    }
   ],
   "source": [
    "class Shape:\n",
    "    def __init__(self):\n",
    "        pass \n",
    "\n",
    "    def area(self):\n",
    "        return 0  \n",
    "class Rectangle(Shape):\n",
    "    def __init__(self, length, width):\n",
    "        super().__init__()  \n",
    "        self.length = length  \n",
    "        self.width = width   \n",
    "\n",
    "    def area(self):\n",
    "        return self.length * self.width  # Area of the rectangle\n",
    "\n",
    "if __name__ == \"__main__\":\n",
    "    shape = Shape()\n",
    "    print(\"Area of Shape:\", shape.area())  \n",
    "\n",
    "    rectangle = Rectangle(int(input(\"choose length \")), int(input(\"choose width \")))\n",
    "    print(\"Area of Rectangle:\", rectangle.area())  "
   ]
  },
  {
   "cell_type": "code",
   "execution_count": 5,
   "metadata": {},
   "outputs": [
    {
     "name": "stdout",
     "output_type": "stream",
     "text": [
      "Point coordinates: (5, 6)\n",
      "Point coordinates: (6, 1)\n",
      "Distance between point1 and point2: 3.61\n"
     ]
    }
   ],
   "source": [
    "import math\n",
    "class Point:\n",
    "    def __init__(self, x=0, y=0):\n",
    "      #initiolise points\n",
    "        self.x = x\n",
    "        self.y = y\n",
    "\n",
    "    def show(self):\n",
    "       #show coodrinates\n",
    "        print(f\"Point coordinates: ({self.x}, {self.y})\")\n",
    "\n",
    "    def move(self, dx, dy):\n",
    "       #change by dx and dy\n",
    "        self.x += dx\n",
    "        self.y += dy\n",
    "\n",
    "    def dist(self, other):\n",
    "      #compute the distance between points\n",
    "        if not isinstance(other, Point):\n",
    "            raise ValueError(\"The other object must be an instance of Point.\")\n",
    "        return math.sqrt((self.x - other.x) ** 2 + (self.y - other.y) ** 2)\n",
    "\n",
    "\n",
    "if __name__ == \"__main__\":\n",
    "    point1 = Point(int(input(\"choose x \")), int(input(\"choose y \")))\n",
    "    point1.show()  #Output\n",
    "\n",
    "    point1.move(int(input(\"move by x \")), int(input(\"move by y \")))\n",
    "    point1.show()  #Output\n",
    "\n",
    "    point2 = Point(int(input(\"choose x for second point \")), int(input(\"choose y for second point \")))\n",
    "    distance = point1.dist(point2)\n",
    "    print(f\"Distance between point1 and point2: {distance:.2f}\") "
   ]
  },
  {
   "cell_type": "code",
   "execution_count": 6,
   "metadata": {},
   "outputs": [
    {
     "name": "stdout",
     "output_type": "stream",
     "text": [
      "\n",
      "Options:\n",
      "1. Deposit\n",
      "2. Withdraw\n",
      "3. Check Balance\n",
      "4. Exit\n",
      "Withdrew: $250.00. New balance: $250.00\n",
      "\n",
      "Options:\n",
      "1. Deposit\n",
      "2. Withdraw\n",
      "3. Check Balance\n",
      "4. Exit\n",
      "Current balance: $250.00\n",
      "\n",
      "Options:\n",
      "1. Deposit\n",
      "2. Withdraw\n",
      "3. Check Balance\n",
      "4. Exit\n",
      "Deposited: $230.00. New balance: $480.00\n",
      "\n",
      "Options:\n",
      "1. Deposit\n",
      "2. Withdraw\n",
      "3. Check Balance\n",
      "4. Exit\n",
      "Current balance: $480.00\n",
      "\n",
      "Options:\n",
      "1. Deposit\n",
      "2. Withdraw\n",
      "3. Check Balance\n",
      "4. Exit\n",
      "Exiting the program.\n"
     ]
    }
   ],
   "source": [
    "class BankAccount:\n",
    "    def __init__(self, owner, initial_balance=0):\n",
    "       #initionalise account with initial balance\n",
    "        self.owner = owner\n",
    "        self.balance = initial_balance\n",
    "\n",
    "    def deposit(self, amount):\n",
    "       #deposit\n",
    "        if amount > 0:\n",
    "            self.balance += amount\n",
    "            print(f\"Deposited: ${amount:.2f}. New balance: ${self.balance:.2f}\")\n",
    "        else:\n",
    "            print(\"Deposit amount must be positive.\")\n",
    "\n",
    "    def withdraw(self, amount):\n",
    "       #withdraw if possible\n",
    "        if amount > self.balance:\n",
    "            print(\"Insufficient funds for this withdrawal.\")\n",
    "        elif amount <= 0:\n",
    "            print(\"Withdrawal amount must be positive.\")\n",
    "        else:\n",
    "            self.balance -= amount\n",
    "            print(f\"Withdrew: ${amount:.2f}. New balance: ${self.balance:.2f}\")\n",
    "\n",
    "    def get_balance(self):\n",
    "      #show balance \n",
    "        return self.balance\n",
    "\n",
    "if __name__ == \"__main__\":\n",
    "    owner_name = input(\"Enter the account owner's name: \")\n",
    "    initial_balance = float(input(\"Enter the initial balance: \"))\n",
    "    account = BankAccount(owner_name, initial_balance)\n",
    "\n",
    "    while True:\n",
    "        print(\"\\nOptions:\")\n",
    "        print(\"1. Deposit\")\n",
    "        print(\"2. Withdraw\")\n",
    "        print(\"3. Check Balance\")\n",
    "        print(\"4. Exit\")\n",
    "        \n",
    "        choice = input(\"Choose an option (1-4): \")\n",
    "\n",
    "        if choice == '1':\n",
    "            amount = float(input(\"Enter the amount to deposit: \"))\n",
    "            account.deposit(amount)\n",
    "        elif choice == '2':\n",
    "            amount = float(input(\"Enter the amount to withdraw: \"))\n",
    "            account.withdraw(amount)\n",
    "        elif choice == '3':\n",
    "            print(f\"Current balance: ${account.get_balance():.2f}\")\n",
    "        elif choice == '4':\n",
    "            print(\"Exiting the program.\")\n",
    "            break\n",
    "        else:\n",
    "            print(\"Invalid choice. Please select a valid option.\")"
   ]
  },
  {
   "cell_type": "code",
   "execution_count": 7,
   "metadata": {},
   "outputs": [
    {
     "name": "stdout",
     "output_type": "stream",
     "text": [
      "Prime numbers in the list: [2, 3, 5, 11, 13, 17, 19]\n"
     ]
    }
   ],
   "source": [
    "def is_prime(n):\n",
    "   #check if prime\n",
    "    if n <= 1:\n",
    "        return False\n",
    "    for i in range(2, int(n**0.5) + 1):\n",
    "        if n % i == 0:\n",
    "            return False\n",
    "    return True\n",
    "\n",
    "# List of numbers\n",
    "numbers = [2, 3, 4, 5, 10, 11, 12, 13, 14, 15, 16, 17, 18, 19, 20]\n",
    "\n",
    "# Use filter with a lambda function to filter prime numbers\n",
    "prime_numbers = list(filter(lambda x: is_prime(x), numbers))\n",
    "print(\"Prime numbers in the list:\", prime_numbers)"
   ]
  }
 ],
 "metadata": {
  "kernelspec": {
   "display_name": "Python 3",
   "language": "python",
   "name": "python3"
  },
  "language_info": {
   "codemirror_mode": {
    "name": "ipython",
    "version": 3
   },
   "file_extension": ".py",
   "mimetype": "text/x-python",
   "name": "python",
   "nbconvert_exporter": "python",
   "pygments_lexer": "ipython3",
   "version": "3.13.0"
  }
 },
 "nbformat": 4,
 "nbformat_minor": 2
}
